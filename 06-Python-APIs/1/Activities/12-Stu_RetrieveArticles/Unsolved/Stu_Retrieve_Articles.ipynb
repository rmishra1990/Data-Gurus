{
 "cells": [
  {
   "cell_type": "code",
   "execution_count": 17,
   "metadata": {},
   "outputs": [
    {
     "data": {
      "text/plain": [
       "'https://api.nytimes.com/svc/search/v2/articlesearch.json?api-key=ZGNdrDGLKX3zPfsqXbONlN9HntYqXKuH&q=politics'"
      ]
     },
     "execution_count": 17,
     "metadata": {},
     "output_type": "execute_result"
    }
   ],
   "source": [
    "# Dependencies\n",
    "import requests\n",
    "from pprint import pprint\n",
    "from config import api_key\n",
    "\n",
    "url = \"https://api.nytimes.com/svc/search/v2/articlesearch.json?\"\n",
    "\n",
    "# Store a search term\n",
    "\n",
    "query = \"politics\"\n",
    "\n",
    "# Search for articles published between a begin and end date\n",
    "begin_date = 20170101\n",
    "end_date = 20190220\n",
    "\n",
    "# Build url\n",
    "\n",
    "query_url = url + \"api-key=\" + api_key + \"&q=\" + query\n",
    "query_url"
   ]
  },
  {
   "cell_type": "code",
   "execution_count": 18,
   "metadata": {},
   "outputs": [
    {
     "name": "stdout",
     "output_type": "stream",
     "text": [
      "A snippet from the article:It’s easy to nostalgize some postwar golden age of political consensus. But the divisions that followed were more intentional than some might think.\n",
      "A snippet from the article:In the On Politics newsletter: Virginia presents the first high-stakes trial of Democrats’ zero-tolerance policy, and a look at how Republicans may weaponize those politics.\n",
      "A snippet from the article:Has political polarization really turned the center into a no man’s land, or is it simply in flux?\n",
      "A snippet from the article:In the On Politics newsletter, a look at why both sides may be hesitant to reach a deal on the shutdown. Plus, fact-checking the president’s border talk and an update on Kamala Harris.\n",
      "A snippet from the article:In the On Politics newsletter, Nancy Pelosi has been showing her political muscle, provoking the president, penalizing the politicians who crossed her and rewarding those who stayed loyal.\n",
      "A snippet from the article:It’s been a busy week in American politics. Here are some of the stories you might have missed.\n",
      "A snippet from the article:It’s been a busy week in American politics. Here are some of the stories you might have missed.\n",
      "A snippet from the article:In the On Politics newsletter, why we need to throw away the cliches we use to describe candidates. Plus, recapping a busy day in Congress.\n",
      "A snippet from the article:It’s been a busy week in American politics. Here are some of the stories you might have missed.\n",
      "A snippet from the article:It’s been a busy week in American politics. Here are some of the stories you might have missed.\n"
     ]
    }
   ],
   "source": [
    "# Retrieve articles\n",
    "\n",
    "articles = requests.get(query_url).json()\n",
    "articles_list = [article for article in articles[\"response\"][\"docs\"]]\n",
    "\n",
    "for article in articles_list:\n",
    "    print(f'A snippet from the article:{article[\"snippet\"]}')\n"
   ]
  },
  {
   "cell_type": "code",
   "execution_count": null,
   "metadata": {},
   "outputs": [],
   "source": [
    "# BONUS: How would we get 30 results? \n",
    "\n",
    "#Empty list for articles\n",
    "articles_list =[]\n",
    "\n",
    "\n",
    "\n",
    "# HINT: Look up the page query param"
   ]
  }
 ],
 "metadata": {
  "kernelspec": {
   "display_name": "Python 3",
   "language": "python",
   "name": "python3"
  },
  "language_info": {
   "codemirror_mode": {
    "name": "ipython",
    "version": 3
   },
   "file_extension": ".py",
   "mimetype": "text/x-python",
   "name": "python",
   "nbconvert_exporter": "python",
   "pygments_lexer": "ipython3",
   "version": "3.7.1"
  },
  "varInspector": {
   "cols": {
    "lenName": 16,
    "lenType": 16,
    "lenVar": 40
   },
   "kernels_config": {
    "python": {
     "delete_cmd_postfix": "",
     "delete_cmd_prefix": "del ",
     "library": "var_list.py",
     "varRefreshCmd": "print(var_dic_list())"
    },
    "r": {
     "delete_cmd_postfix": ") ",
     "delete_cmd_prefix": "rm(",
     "library": "var_list.r",
     "varRefreshCmd": "cat(var_dic_list()) "
    }
   },
   "types_to_exclude": [
    "module",
    "function",
    "builtin_function_or_method",
    "instance",
    "_Feature"
   ],
   "window_display": false
  }
 },
 "nbformat": 4,
 "nbformat_minor": 2
}
