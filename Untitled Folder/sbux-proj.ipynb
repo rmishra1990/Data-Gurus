{
 "cells": [
  {
   "cell_type": "code",
   "execution_count": null,
   "metadata": {},
   "outputs": [],
   "source": [
    "import pandas as pd\n",
    "from census import Census\n",
    "import censusdata\n",
    "sdf = pd.read_csv('sbux.csv')\n",
    "sdf = sdf[[\"Name\",\"Latitude\",\"Longitude\",\"Street1\",\"Street2\",\"Street3\",\"City\",\"CountrySubdivisionCode\"]]\n",
    "sdf"
   ]
  },
  {
   "cell_type": "code",
   "execution_count": null,
   "metadata": {},
   "outputs": [],
   "source": [
    "# api_key = \"20d727d32e443da6897d6a50cdd95b1135f81bd0\"\n",
    "# c = Census(api_key, year=2017)\n",
    "# census_data = c.acs5.get((\"NAME\", \"B19013_001E\", \"B01003_001E\", \"B01002_001E\",\n",
    "#                           \"B19301_001E\",\n",
    "#                           \"B17001_002E\",\n",
    "#                           \"B23025_005E\"), {'for': 'state:34'})\n",
    "\n",
    "# # Convert to DataFrame\n",
    "# census_pd = pd.DataFrame(census_data)\n",
    "\n",
    "# # Column Reordering\n",
    "# census_pd = census_pd.rename(columns={\"B01003_001E\": \"Population\",\n",
    "#                                       \"B01002_001E\": \"Median Age\",\n",
    "#                                       \"B19013_001E\": \"Household Income\",\n",
    "#                                       \"B19301_001E\": \"Per Capita Income\",\n",
    "#                                       \"B17001_002E\": \"Poverty Count\",\n",
    "#                                       \"B23025_005E\": \"Unemployment Count\",\n",
    "#                                       \"NAME\": \"Name\", \"state\": \"State\"})"
   ]
  },
  {
   "cell_type": "code",
   "execution_count": null,
   "metadata": {},
   "outputs": [],
   "source": [
    "# ACS 1-Year Detailed Tables 2017 \n",
    "# https://api.census.gov/data.html\n",
    "# https://api.census.gov/data/2017/acs/acs1\n",
    "# https://api.census.gov/data/2017/acs/acs1/geography.html\n",
    "# https://api.census.gov/data/2017/acs/acs1/variables.html\n",
    "# # https://api.census.gov/data/2017/acs/acs1/examples.html\n",
    "    \n",
    "    \n",
    "# # 060 county subdivision\n",
    "\n",
    "# censusdata.geographies(censusdata.censusgeo([('state', '34')]), 'acs5', 2015)\n",
    "# censusdata.geographies(censusdata.censusgeo([('state', '34'), ('county', '*')]), 'acs5', 2015)\n",
    "\n",
    "# mydata = censusdata.download('acs5', 2017,\n",
    "#                              censusdata.censusgeo([('state', '34'), ('county', '*'), ('county subdivision', '*')]),\n",
    "#                              ['B23025_003E', 'B23025_005E'])"
   ]
  },
  {
   "cell_type": "code",
   "execution_count": null,
   "metadata": {},
   "outputs": [],
   "source": [
    "# census_pd"
   ]
  },
  {
   "cell_type": "code",
   "execution_count": 53,
   "metadata": {},
   "outputs": [],
   "source": [
    "import pandas as pd\n",
    "import censusdata\n",
    "mydata = censusdata.download('acs5', 2017,\n",
    "                            censusdata.censusgeo([('state','34'), ('county', '*'),\n",
    "                            ('county subdivision','*')]),\n",
    "                            ['B19013_001E', 'B01003_001E'])\n",
    "mydata['city'] = mydata.index\n",
    "mydata = mydata.reset_index()\n",
    "\n",
    "cities = []\n",
    "clean = []\n",
    "length = len(mydata['city'])\n",
    "for i in range (0,length):\n",
    "    cities.append(str(mydata['city'].to_list()[i]).split(',')[0])\n",
    "for i in cities:\n",
    "    end = (len(i.split(' ')))\n",
    "    i = (i.split(' ')[:end-1])\n",
    "    clean.append(\" \".join(i))\n",
    "    \n",
    "df = pd.DataFrame({\"City\": [],\"Income\":[],\"Population\":[]})\n",
    "df['City'] = clean\n",
    "df['Income'] = mydata[\"B19013_001E\"]\n",
    "df['Population'] = mydata['B01003_001E']"
   ]
  },
  {
   "cell_type": "code",
   "execution_count": null,
   "metadata": {},
   "outputs": [],
   "source": []
  },
  {
   "cell_type": "code",
   "execution_count": null,
   "metadata": {},
   "outputs": [],
   "source": [
    "df.to_csv('census.csv')"
   ]
  },
  {
   "cell_type": "code",
   "execution_count": null,
   "metadata": {},
   "outputs": [],
   "source": [
    "merged = pd.merge(sdf, df, how='left', on='City')"
   ]
  },
  {
   "cell_type": "code",
   "execution_count": null,
   "metadata": {},
   "outputs": [],
   "source": [
    "merged.isna().sum()"
   ]
  },
  {
   "cell_type": "code",
   "execution_count": null,
   "metadata": {},
   "outputs": [],
   "source": [
    "merged[merged.Income.isna()== True]"
   ]
  },
  {
   "cell_type": "code",
   "execution_count": null,
   "metadata": {},
   "outputs": [],
   "source": [
    "merged"
   ]
  },
  {
   "cell_type": "code",
   "execution_count": null,
   "metadata": {},
   "outputs": [],
   "source": []
  }
 ],
 "metadata": {
  "kernelspec": {
   "display_name": "Python 3",
   "language": "python",
   "name": "python3"
  },
  "language_info": {
   "codemirror_mode": {
    "name": "ipython",
    "version": 3
   },
   "file_extension": ".py",
   "mimetype": "text/x-python",
   "name": "python",
   "nbconvert_exporter": "python",
   "pygments_lexer": "ipython3",
   "version": "3.7.1"
  }
 },
 "nbformat": 4,
 "nbformat_minor": 2
}
